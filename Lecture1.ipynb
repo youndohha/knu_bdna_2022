{
  "nbformat": 4,
  "nbformat_minor": 0,
  "metadata": {
    "colab": {
      "name": "Lecture1.ipynb",
      "provenance": [],
      "collapsed_sections": []
    },
    "kernelspec": {
      "name": "python3",
      "display_name": "Python 3"
    }
  },
  "cells": [
    {
      "cell_type": "code",
      "metadata": {
        "id": "n1cKKTh3kJgS"
      },
      "source": [
        "a=3\n",
        "b=2   # shift enter 를 하면 cell 이 실행됨."
      ],
      "execution_count": 1,
      "outputs": []
    },
    {
      "cell_type": "code",
      "metadata": {
        "id": "z7tYp15BlfIA",
        "colab": {
          "base_uri": "https://localhost:8080/"
        },
        "outputId": "834ebc49-aef5-4250-9b3b-a480807037ed"
      },
      "source": [
        "a"
      ],
      "execution_count": 2,
      "outputs": [
        {
          "output_type": "execute_result",
          "data": {
            "text/plain": [
              "3"
            ]
          },
          "metadata": {},
          "execution_count": 2
        }
      ]
    },
    {
      "cell_type": "code",
      "metadata": {
        "id": "DV2aZWAglfWd",
        "colab": {
          "base_uri": "https://localhost:8080/"
        },
        "outputId": "7d75d5f3-830e-402d-c7ec-6aba1e6fc730"
      },
      "source": [
        "b"
      ],
      "execution_count": 3,
      "outputs": [
        {
          "output_type": "execute_result",
          "data": {
            "text/plain": [
              "2"
            ]
          },
          "metadata": {},
          "execution_count": 3
        }
      ]
    },
    {
      "cell_type": "code",
      "metadata": {
        "id": "vm9rQWQ4lfRB"
      },
      "source": [
        "c=a+b"
      ],
      "execution_count": 4,
      "outputs": []
    },
    {
      "cell_type": "code",
      "metadata": {
        "id": "2us-3DzAlfNv",
        "colab": {
          "base_uri": "https://localhost:8080/"
        },
        "outputId": "f1961062-acdc-474c-83d6-d57f45939cb2"
      },
      "source": [
        "c"
      ],
      "execution_count": 5,
      "outputs": [
        {
          "output_type": "execute_result",
          "data": {
            "text/plain": [
              "5"
            ]
          },
          "metadata": {},
          "execution_count": 5
        }
      ]
    },
    {
      "cell_type": "code",
      "metadata": {
        "id": "dd_A2ExAlfLP",
        "colab": {
          "base_uri": "https://localhost:8080/"
        },
        "outputId": "9480cc6d-5c18-4e6f-bae9-087e02413da4"
      },
      "source": [
        "print(\"hello world\")"
      ],
      "execution_count": 6,
      "outputs": [
        {
          "output_type": "stream",
          "name": "stdout",
          "text": [
            "hello world\n"
          ]
        }
      ]
    },
    {
      "cell_type": "code",
      "metadata": {
        "id": "jzcLHiLhlViy",
        "colab": {
          "base_uri": "https://localhost:8080/"
        },
        "outputId": "b625122b-167f-42c1-8907-60827561594d"
      },
      "source": [
        "3*10 - 2"
      ],
      "execution_count": 7,
      "outputs": [
        {
          "output_type": "execute_result",
          "data": {
            "text/plain": [
              "28"
            ]
          },
          "metadata": {},
          "execution_count": 7
        }
      ]
    },
    {
      "cell_type": "code",
      "metadata": {
        "id": "wgNDTcyGl5um"
      },
      "source": [
        "# +   -   *   /"
      ],
      "execution_count": 8,
      "outputs": []
    },
    {
      "cell_type": "code",
      "metadata": {
        "id": "f3qJQLjwl50C",
        "colab": {
          "base_uri": "https://localhost:8080/"
        },
        "outputId": "0904e2c1-3c8a-40cf-dc7c-3993ed7143fa"
      },
      "source": [
        "3/2"
      ],
      "execution_count": 9,
      "outputs": [
        {
          "output_type": "execute_result",
          "data": {
            "text/plain": [
              "1.5"
            ]
          },
          "metadata": {},
          "execution_count": 9
        }
      ]
    },
    {
      "cell_type": "code",
      "metadata": {
        "id": "-8vw-5pTl5xr",
        "colab": {
          "base_uri": "https://localhost:8080/",
          "height": 52
        },
        "outputId": "292594c8-82bf-4bac-d129-22032a95ce59"
      },
      "source": [
        "input(\"My age is \")"
      ],
      "execution_count": 10,
      "outputs": [
        {
          "name": "stdout",
          "output_type": "stream",
          "text": [
            "My age is 43\n"
          ]
        },
        {
          "output_type": "execute_result",
          "data": {
            "application/vnd.google.colaboratory.intrinsic+json": {
              "type": "string"
            },
            "text/plain": [
              "'43'"
            ]
          },
          "metadata": {},
          "execution_count": 10
        }
      ]
    },
    {
      "cell_type": "code",
      "metadata": {
        "id": "sa5TpkQJmT1W",
        "colab": {
          "base_uri": "https://localhost:8080/"
        },
        "outputId": "163426bd-b027-4e8a-f3d5-ef4819e0b126"
      },
      "source": [
        "str = input(\"My age is \")"
      ],
      "execution_count": 11,
      "outputs": [
        {
          "name": "stdout",
          "output_type": "stream",
          "text": [
            "My age is 43\n"
          ]
        }
      ]
    },
    {
      "cell_type": "code",
      "metadata": {
        "id": "lxz3duLpmT56",
        "colab": {
          "base_uri": "https://localhost:8080/"
        },
        "outputId": "e450630f-b9da-435e-8f3f-6dc6ab0e9002"
      },
      "source": [
        "print(str)"
      ],
      "execution_count": 12,
      "outputs": [
        {
          "output_type": "stream",
          "name": "stdout",
          "text": [
            "43\n"
          ]
        }
      ]
    },
    {
      "cell_type": "code",
      "metadata": {
        "id": "4rYNhQsdmTya",
        "colab": {
          "base_uri": "https://localhost:8080/"
        },
        "outputId": "44590554-e0b8-4e22-cd92-6421ba0e675b"
      },
      "source": [
        "year = input(\"This year is \")"
      ],
      "execution_count": 51,
      "outputs": [
        {
          "name": "stdout",
          "output_type": "stream",
          "text": [
            "This year is 2021\n"
          ]
        }
      ]
    },
    {
      "cell_type": "code",
      "metadata": {
        "id": "GaFAttsClYxU",
        "colab": {
          "base_uri": "https://localhost:8080/"
        },
        "outputId": "0e3f5981-2341-4aee-dd2a-b7a02977fe63"
      },
      "source": [
        "eval(year) + 1"
      ],
      "execution_count": 14,
      "outputs": [
        {
          "output_type": "execute_result",
          "data": {
            "text/plain": [
              "2022"
            ]
          },
          "metadata": {},
          "execution_count": 14
        }
      ]
    },
    {
      "cell_type": "code",
      "metadata": {
        "id": "xCJ9sx7em4R6",
        "colab": {
          "base_uri": "https://localhost:8080/"
        },
        "outputId": "81c2d31f-1ab6-4199-a9c7-2c4496997519"
      },
      "source": [
        "a=input(\"first number\")\n",
        "b=input(\"second number\")\n",
        "\n",
        "c = eval(a) +eval(b)"
      ],
      "execution_count": 15,
      "outputs": [
        {
          "name": "stdout",
          "output_type": "stream",
          "text": [
            "first number3\n",
            "second number6\n"
          ]
        }
      ]
    },
    {
      "cell_type": "code",
      "metadata": {
        "id": "0-Ujrxn_nI-B",
        "colab": {
          "base_uri": "https://localhost:8080/"
        },
        "outputId": "b86b4825-28f4-4416-a964-0010aaba70a6"
      },
      "source": [
        "print(c)"
      ],
      "execution_count": 16,
      "outputs": [
        {
          "output_type": "stream",
          "name": "stdout",
          "text": [
            "9\n"
          ]
        }
      ]
    },
    {
      "cell_type": "code",
      "metadata": {
        "id": "HYqZJoqAnJC1"
      },
      "source": [
        "# 파스칼 표기법\n",
        "# - 첫 번째 문자가 대문자, 나머지는 소문자\n",
        "# - 클레스, 메소드 명에서 권장"
      ],
      "execution_count": 17,
      "outputs": []
    },
    {
      "cell_type": "code",
      "metadata": {
        "id": "dpeZTN63nJIV"
      },
      "source": [
        "# 카멜 표기법\n",
        "# 단어 + 단어. 두번쨰 단어의 첫 문자를 대문자로 지어라 \n",
        "# 예) totalCost, variableSum"
      ],
      "execution_count": 18,
      "outputs": []
    },
    {
      "cell_type": "code",
      "metadata": {
        "id": "cgPCqva1nJOg"
      },
      "source": [
        "# 변수에 지나친 축약어를 피한다"
      ],
      "execution_count": 19,
      "outputs": []
    },
    {
      "cell_type": "code",
      "metadata": {
        "id": "CnVHOk3ZnJev"
      },
      "source": [
        "# Boolean 변수\n",
        "# is 접두어 사용\n",
        "# isFind, isExist"
      ],
      "execution_count": 20,
      "outputs": []
    },
    {
      "cell_type": "code",
      "metadata": {
        "id": "M37InZj0nJcx"
      },
      "source": [
        "x, y = 1, 2"
      ],
      "execution_count": 21,
      "outputs": []
    },
    {
      "cell_type": "code",
      "metadata": {
        "id": "DZOy4vDCnJaZ",
        "colab": {
          "base_uri": "https://localhost:8080/"
        },
        "outputId": "3f9118e5-044b-4c1f-f619-8089029dc89b"
      },
      "source": [
        "print(x)"
      ],
      "execution_count": 22,
      "outputs": [
        {
          "output_type": "stream",
          "name": "stdout",
          "text": [
            "1\n"
          ]
        }
      ]
    },
    {
      "cell_type": "code",
      "metadata": {
        "id": "YXeBOGJVnJVb",
        "colab": {
          "base_uri": "https://localhost:8080/"
        },
        "outputId": "634943c7-e837-4409-c17c-7a776f5bd9f7"
      },
      "source": [
        "print(y)"
      ],
      "execution_count": 23,
      "outputs": [
        {
          "output_type": "stream",
          "name": "stdout",
          "text": [
            "2\n"
          ]
        }
      ]
    },
    {
      "cell_type": "code",
      "metadata": {
        "id": "g6QBcVnUpHTv"
      },
      "source": [
        "y,x=x,y"
      ],
      "execution_count": 24,
      "outputs": []
    },
    {
      "cell_type": "code",
      "metadata": {
        "id": "2hhWrbOepKZh",
        "colab": {
          "base_uri": "https://localhost:8080/"
        },
        "outputId": "511e91f7-1b30-4f6c-b8f2-b81c34563521"
      },
      "source": [
        "print(x)"
      ],
      "execution_count": 25,
      "outputs": [
        {
          "output_type": "stream",
          "name": "stdout",
          "text": [
            "2\n"
          ]
        }
      ]
    },
    {
      "cell_type": "code",
      "metadata": {
        "id": "te_M0yOUpPq9",
        "colab": {
          "base_uri": "https://localhost:8080/"
        },
        "outputId": "4c72f483-af7c-4978-d920-65043290647c"
      },
      "source": [
        "print(y)"
      ],
      "execution_count": 26,
      "outputs": [
        {
          "output_type": "stream",
          "name": "stdout",
          "text": [
            "1\n"
          ]
        }
      ]
    },
    {
      "cell_type": "code",
      "metadata": {
        "id": "thm96EeXpQX1"
      },
      "source": [
        "def sayHello():\n",
        "  print(\"Hello World\")"
      ],
      "execution_count": 27,
      "outputs": []
    },
    {
      "cell_type": "code",
      "metadata": {
        "id": "o07hkuyepaA6",
        "colab": {
          "base_uri": "https://localhost:8080/"
        },
        "outputId": "6c5d1e2f-f304-4bf7-a7bd-d6469517a37c"
      },
      "source": [
        "sayHello()"
      ],
      "execution_count": 28,
      "outputs": [
        {
          "output_type": "stream",
          "name": "stdout",
          "text": [
            "Hello World\n"
          ]
        }
      ]
    },
    {
      "cell_type": "code",
      "metadata": {
        "id": "zzGq9qtktqvX"
      },
      "source": [
        "def add(a, b):\n",
        "  return a+b"
      ],
      "execution_count": 29,
      "outputs": []
    },
    {
      "cell_type": "code",
      "metadata": {
        "id": "S4xrNgXeuGj_",
        "colab": {
          "base_uri": "https://localhost:8080/"
        },
        "outputId": "b0d4cbcd-7cb9-4c08-fe4b-3fbb6614ed4b"
      },
      "source": [
        "add(3,4)"
      ],
      "execution_count": 30,
      "outputs": [
        {
          "output_type": "execute_result",
          "data": {
            "text/plain": [
              "7"
            ]
          },
          "metadata": {},
          "execution_count": 30
        }
      ]
    },
    {
      "cell_type": "code",
      "metadata": {
        "id": "DdJDnKFouJRt"
      },
      "source": [
        "def multiply(a,b):\n",
        "  return a*b"
      ],
      "execution_count": 31,
      "outputs": []
    },
    {
      "cell_type": "code",
      "metadata": {
        "id": "SPP39cD1uMOq",
        "colab": {
          "base_uri": "https://localhost:8080/"
        },
        "outputId": "ec89f4ad-7171-4313-87d7-3f8427b635c0"
      },
      "source": [
        "multiply(3,4)"
      ],
      "execution_count": 32,
      "outputs": [
        {
          "output_type": "execute_result",
          "data": {
            "text/plain": [
              "12"
            ]
          },
          "metadata": {},
          "execution_count": 32
        }
      ]
    },
    {
      "cell_type": "code",
      "metadata": {
        "id": "_9QF1gJNuNyI"
      },
      "source": [
        "def greet2(name):\n",
        "  print(\"반갑습니다\", name)"
      ],
      "execution_count": 33,
      "outputs": []
    },
    {
      "cell_type": "code",
      "metadata": {
        "id": "Wn58JqRPuZzt",
        "colab": {
          "base_uri": "https://localhost:8080/"
        },
        "outputId": "1ebd5ac8-d6fe-452b-9340-1db4c5039d4b"
      },
      "source": [
        "greet2(\"하윤도\")"
      ],
      "execution_count": 34,
      "outputs": [
        {
          "output_type": "stream",
          "name": "stdout",
          "text": [
            "반갑습니다 하윤도\n"
          ]
        }
      ]
    },
    {
      "cell_type": "code",
      "metadata": {
        "id": "EHRTqo8lucJd"
      },
      "source": [
        "def adder(a,b):\n",
        "  sum_ = a + b\n",
        "  return sum_"
      ],
      "execution_count": 35,
      "outputs": []
    },
    {
      "cell_type": "code",
      "metadata": {
        "id": "rxmTLuYZu06q",
        "colab": {
          "base_uri": "https://localhost:8080/"
        },
        "outputId": "fa2f604b-d307-4c70-8813-1ec1c5bf551c"
      },
      "source": [
        "adder(2,4)"
      ],
      "execution_count": 36,
      "outputs": [
        {
          "output_type": "execute_result",
          "data": {
            "text/plain": [
              "6"
            ]
          },
          "metadata": {},
          "execution_count": 36
        }
      ]
    },
    {
      "cell_type": "code",
      "metadata": {
        "id": "Mw2bc5nVu20l"
      },
      "source": [
        "def main():\n",
        "  c=adder(1,4)\n",
        "  print(c)"
      ],
      "execution_count": 37,
      "outputs": []
    },
    {
      "cell_type": "code",
      "metadata": {
        "id": "fYG9yWOqu46T",
        "colab": {
          "base_uri": "https://localhost:8080/"
        },
        "outputId": "e76bffdf-cf41-4729-b98a-3462cfab71a7"
      },
      "source": [
        "main()"
      ],
      "execution_count": 38,
      "outputs": [
        {
          "output_type": "stream",
          "name": "stdout",
          "text": [
            "5\n"
          ]
        }
      ]
    },
    {
      "cell_type": "code",
      "metadata": {
        "id": "BJUyhz25u5AK",
        "colab": {
          "base_uri": "https://localhost:8080/"
        },
        "outputId": "42dea1dd-7be1-4d37-f1c0-0cad2d4a9bf6"
      },
      "source": [
        "min(2,4)"
      ],
      "execution_count": 39,
      "outputs": [
        {
          "output_type": "execute_result",
          "data": {
            "text/plain": [
              "2"
            ]
          },
          "metadata": {},
          "execution_count": 39
        }
      ]
    },
    {
      "cell_type": "code",
      "metadata": {
        "id": "I7wa2i9gu43Z",
        "colab": {
          "base_uri": "https://localhost:8080/"
        },
        "outputId": "ac482a1c-77b5-40e9-f10b-1be3dd9ba682"
      },
      "source": [
        "max(3,5)"
      ],
      "execution_count": 40,
      "outputs": [
        {
          "output_type": "execute_result",
          "data": {
            "text/plain": [
              "5"
            ]
          },
          "metadata": {},
          "execution_count": 40
        }
      ]
    },
    {
      "cell_type": "code",
      "metadata": {
        "id": "TBtwQ6cNu409",
        "colab": {
          "base_uri": "https://localhost:8080/"
        },
        "outputId": "83a10d01-8a3c-4157-b912-a6ad97458a3b"
      },
      "source": [
        "round(2.4)"
      ],
      "execution_count": 41,
      "outputs": [
        {
          "output_type": "execute_result",
          "data": {
            "text/plain": [
              "2"
            ]
          },
          "metadata": {},
          "execution_count": 41
        }
      ]
    },
    {
      "cell_type": "code",
      "metadata": {
        "id": "25eFkR_Uu4yo",
        "colab": {
          "base_uri": "https://localhost:8080/"
        },
        "outputId": "63b986bd-bca5-41b3-efcf-12cf57f8d6b4"
      },
      "source": [
        "round(2.6)"
      ],
      "execution_count": 42,
      "outputs": [
        {
          "output_type": "execute_result",
          "data": {
            "text/plain": [
              "3"
            ]
          },
          "metadata": {},
          "execution_count": 42
        }
      ]
    },
    {
      "cell_type": "code",
      "metadata": {
        "id": "FLzigm3GveRP",
        "colab": {
          "base_uri": "https://localhost:8080/"
        },
        "outputId": "c6b5ea3d-97bd-44e7-d4b0-8b7c38eb0146"
      },
      "source": [
        "abs(-4)"
      ],
      "execution_count": 43,
      "outputs": [
        {
          "output_type": "execute_result",
          "data": {
            "text/plain": [
              "4"
            ]
          },
          "metadata": {},
          "execution_count": 43
        }
      ]
    },
    {
      "cell_type": "code",
      "metadata": {
        "id": "5ib1zKehveOe",
        "colab": {
          "base_uri": "https://localhost:8080/"
        },
        "outputId": "d65e0bb7-ee7a-4ce5-c2b6-c7176da8dffb"
      },
      "source": [
        "pow(2,4)"
      ],
      "execution_count": 44,
      "outputs": [
        {
          "output_type": "execute_result",
          "data": {
            "text/plain": [
              "16"
            ]
          },
          "metadata": {},
          "execution_count": 44
        }
      ]
    },
    {
      "cell_type": "code",
      "metadata": {
        "id": "OdRUI44gveMD",
        "colab": {
          "base_uri": "https://localhost:8080/"
        },
        "outputId": "669dcef8-1bf0-4360-bf73-18b71582adf0"
      },
      "source": [
        "10 % 3"
      ],
      "execution_count": 45,
      "outputs": [
        {
          "output_type": "execute_result",
          "data": {
            "text/plain": [
              "1"
            ]
          },
          "metadata": {},
          "execution_count": 45
        }
      ]
    },
    {
      "cell_type": "code",
      "metadata": {
        "id": "1dSp-fl4vmJZ",
        "colab": {
          "base_uri": "https://localhost:8080/"
        },
        "outputId": "9fa89f62-7c49-4060-c882-3d35e0b387ce"
      },
      "source": [
        "10//3  "
      ],
      "execution_count": 46,
      "outputs": [
        {
          "output_type": "execute_result",
          "data": {
            "text/plain": [
              "3"
            ]
          },
          "metadata": {},
          "execution_count": 46
        }
      ]
    },
    {
      "cell_type": "code",
      "metadata": {
        "id": "acrR5vxd0c-s"
      },
      "source": [
        "def ret():\n",
        "  return 12"
      ],
      "execution_count": 48,
      "outputs": []
    },
    {
      "cell_type": "code",
      "metadata": {
        "id": "3_fd8D2YvmGL",
        "colab": {
          "base_uri": "https://localhost:8080/"
        },
        "outputId": "da2303af-49c4-40da-c046-7757f14ed3d7"
      },
      "source": [
        "result = eval(input(\"뭐든 넣어요: \"))"
      ],
      "execution_count": 52,
      "outputs": [
        {
          "name": "stdout",
          "output_type": "stream",
          "text": [
            "뭐든 넣어요: ret()\n"
          ]
        }
      ]
    },
    {
      "cell_type": "code",
      "metadata": {
        "id": "BtNdM6livmDF",
        "colab": {
          "base_uri": "https://localhost:8080/"
        },
        "outputId": "0e6237d5-f07c-4222-b1e0-a0a506d950cb"
      },
      "source": [
        "print(result)"
      ],
      "execution_count": 53,
      "outputs": [
        {
          "output_type": "stream",
          "name": "stdout",
          "text": [
            "12\n"
          ]
        }
      ]
    },
    {
      "cell_type": "code",
      "metadata": {
        "id": "RvCEJnirvl6o"
      },
      "source": [
        "sum =0\n",
        "for i in range(1,11):\n",
        "  sum = sum + i"
      ],
      "execution_count": 54,
      "outputs": []
    },
    {
      "cell_type": "code",
      "metadata": {
        "id": "5bNupvsfveJl",
        "colab": {
          "base_uri": "https://localhost:8080/"
        },
        "outputId": "58bfa39a-de23-4d87-86ca-0ad49e9fa1a0"
      },
      "source": [
        "sum"
      ],
      "execution_count": 55,
      "outputs": [
        {
          "output_type": "execute_result",
          "data": {
            "text/plain": [
              "55"
            ]
          },
          "metadata": {},
          "execution_count": 55
        }
      ]
    },
    {
      "cell_type": "code",
      "metadata": {
        "id": "bF_UbX32veHD",
        "colab": {
          "base_uri": "https://localhost:8080/"
        },
        "outputId": "27ee0f1c-dbe9-42da-c0d8-b6e1f952891e"
      },
      "source": [
        "import random\n",
        "\n",
        "NUMBER_OF_TRIALS = 50000000\n",
        "number_of_hits = 0\n",
        "\n",
        "for i in range(NUMBER_OF_TRIALS):\n",
        "  x = random.random() * 2 -1\n",
        "  y = random.random() * 2 -1\n",
        "\n",
        "  if (x*x+y*y<=1):\n",
        "    number_of_hits +=1\n",
        "\n",
        "pi = 4* number_of_hits/NUMBER_OF_TRIALS\n",
        "print(pi)"
      ],
      "execution_count": 56,
      "outputs": [
        {
          "output_type": "stream",
          "name": "stdout",
          "text": [
            "3.14160288\n"
          ]
        }
      ]
    },
    {
      "cell_type": "code",
      "metadata": {
        "id": "kPP72RBLveD7",
        "colab": {
          "base_uri": "https://localhost:8080/"
        },
        "outputId": "80ec629b-bea7-40c2-f764-0725e2828069"
      },
      "source": [
        "import random\n",
        "\n",
        "NUMBER_OF_TRIALS = 10000000\n",
        "number_of_hits = 0\n",
        "\n",
        "i=0\n",
        "while(  i <NUMBER_OF_TRIALS):\n",
        "  x = random.random() * 2 -1\n",
        "  y = random.random() * 2 -1\n",
        "\n",
        "  if (x*x+y*y<=1):\n",
        "    number_of_hits +=1\n",
        "\n",
        "  i = i+1\n",
        "\n",
        "pi = 4* number_of_hits/NUMBER_OF_TRIALS\n",
        "print(pi)"
      ],
      "execution_count": 57,
      "outputs": [
        {
          "output_type": "stream",
          "name": "stdout",
          "text": [
            "3.141994\n"
          ]
        }
      ]
    },
    {
      "cell_type": "code",
      "metadata": {
        "id": "fdI9ATUp1ZFT"
      },
      "source": [
        "x=3"
      ],
      "execution_count": 58,
      "outputs": []
    },
    {
      "cell_type": "code",
      "metadata": {
        "id": "KXmEKTn91ZDA"
      },
      "source": [
        "y=2"
      ],
      "execution_count": 59,
      "outputs": []
    },
    {
      "cell_type": "code",
      "metadata": {
        "id": "JyNuq_C91Y_Z",
        "colab": {
          "base_uri": "https://localhost:8080/"
        },
        "outputId": "095dd0a0-9ce6-4b88-fa25-6613fedde6e8"
      },
      "source": [
        "bool(x!=y)"
      ],
      "execution_count": 60,
      "outputs": [
        {
          "output_type": "execute_result",
          "data": {
            "text/plain": [
              "True"
            ]
          },
          "metadata": {},
          "execution_count": 60
        }
      ]
    },
    {
      "cell_type": "code",
      "metadata": {
        "id": "P30IPvdX1Y9D",
        "colab": {
          "base_uri": "https://localhost:8080/"
        },
        "outputId": "a84cd955-cd8c-417e-c98e-0faf7b20c344"
      },
      "source": [
        "bool(False or False)"
      ],
      "execution_count": 61,
      "outputs": [
        {
          "output_type": "execute_result",
          "data": {
            "text/plain": [
              "False"
            ]
          },
          "metadata": {},
          "execution_count": 61
        }
      ]
    },
    {
      "cell_type": "code",
      "metadata": {
        "id": "XseYd9Zf1Y6h",
        "colab": {
          "base_uri": "https://localhost:8080/"
        },
        "outputId": "742d88cc-b8a3-4137-ce4c-21f365ed41da"
      },
      "source": [
        "bool(True and False)"
      ],
      "execution_count": 62,
      "outputs": [
        {
          "output_type": "execute_result",
          "data": {
            "text/plain": [
              "False"
            ]
          },
          "metadata": {},
          "execution_count": 62
        }
      ]
    },
    {
      "cell_type": "code",
      "metadata": {
        "id": "0VOXEn2f1Y3x",
        "colab": {
          "base_uri": "https://localhost:8080/"
        },
        "outputId": "5f713367-44c5-495f-ce4d-078a637b45c9"
      },
      "source": [
        "bool(not (True and False))"
      ],
      "execution_count": 63,
      "outputs": [
        {
          "output_type": "execute_result",
          "data": {
            "text/plain": [
              "True"
            ]
          },
          "metadata": {},
          "execution_count": 63
        }
      ]
    },
    {
      "cell_type": "code",
      "metadata": {
        "id": "Th05sPrY1Y1O",
        "colab": {
          "base_uri": "https://localhost:8080/"
        },
        "outputId": "39008e72-f3d3-46c4-9a87-232fefeb7b52"
      },
      "source": [
        "bool((not True) or True )"
      ],
      "execution_count": 64,
      "outputs": [
        {
          "output_type": "execute_result",
          "data": {
            "text/plain": [
              "True"
            ]
          },
          "metadata": {},
          "execution_count": 64
        }
      ]
    },
    {
      "cell_type": "code",
      "metadata": {
        "id": "RGapfYCm1Yy3"
      },
      "source": [
        "a=[1, 2, 3]"
      ],
      "execution_count": 65,
      "outputs": []
    },
    {
      "cell_type": "code",
      "metadata": {
        "id": "qp8a2JZZ1YuI",
        "colab": {
          "base_uri": "https://localhost:8080/"
        },
        "outputId": "b3219a2d-fd66-4416-b8d8-f42bf52a0c58"
      },
      "source": [
        "bool(10 not in a)"
      ],
      "execution_count": 66,
      "outputs": [
        {
          "output_type": "execute_result",
          "data": {
            "text/plain": [
              "True"
            ]
          },
          "metadata": {},
          "execution_count": 66
        }
      ]
    },
    {
      "cell_type": "code",
      "metadata": {
        "id": "IdbQGE9K4eyW",
        "colab": {
          "base_uri": "https://localhost:8080/"
        },
        "outputId": "baa74599-c525-4ffd-b558-4fab38459c4a"
      },
      "source": [
        "pocket = ['paper',  'cellphone']\n",
        "card = True \n",
        "if 'money' in pocket:\n",
        "  print(\"택시를 타고 가라\")\n",
        "elif card == True:\n",
        "  print(\"택시를 타고 가라\")\n",
        "else:\n",
        "  print(\"걸어가라\")"
      ],
      "execution_count": 67,
      "outputs": [
        {
          "output_type": "stream",
          "name": "stdout",
          "text": [
            "택시를 타고 가라\n"
          ]
        }
      ]
    },
    {
      "cell_type": "code",
      "metadata": {
        "id": "debT2kgx4evm"
      },
      "source": [
        ""
      ],
      "execution_count": 67,
      "outputs": []
    },
    {
      "cell_type": "code",
      "metadata": {
        "id": "7lcil8Tw4erE"
      },
      "source": [
        ""
      ],
      "execution_count": 67,
      "outputs": []
    },
    {
      "cell_type": "code",
      "metadata": {
        "id": "ihGC9JI04emq"
      },
      "source": [
        ""
      ],
      "execution_count": 67,
      "outputs": []
    },
    {
      "cell_type": "code",
      "metadata": {
        "id": "EJ7MHbx24eiz"
      },
      "source": [
        ""
      ],
      "execution_count": 67,
      "outputs": []
    },
    {
      "cell_type": "code",
      "metadata": {
        "id": "iE3yaETq4efI"
      },
      "source": [
        ""
      ],
      "execution_count": 67,
      "outputs": []
    }
  ]
}